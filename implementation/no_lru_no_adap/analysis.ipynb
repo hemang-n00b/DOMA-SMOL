{
 "cells": [
  {
   "cell_type": "code",
   "execution_count": 2,
   "id": "c03c3a37",
   "metadata": {},
   "outputs": [],
   "source": [
    "import json\n",
    "def load_jsonl(filename):\n",
    "    data = []\n",
    "    with open(filename, 'r', encoding='utf-8') as f:\n",
    "        for line in f:\n",
    "            if line.strip():  # Skip empty lines\n",
    "                data.append(json.loads(line))\n",
    "    return data"
   ]
  },
  {
   "cell_type": "code",
   "execution_count": 16,
   "id": "7c724a2a",
   "metadata": {},
   "outputs": [],
   "source": [
    "input = load_jsonl('./set3_final_20mins.jsonl')\n",
    "output = load_jsonl('./router_cross.jsonl')"
   ]
  },
  {
   "cell_type": "code",
   "execution_count": 17,
   "id": "b312f3d1",
   "metadata": {},
   "outputs": [],
   "source": [
    "c=0 \n",
    "for i in output:\n",
    "    for j in input:\n",
    "        if \"merged_input\" in j.keys():\n",
    "            if j[\"merged_input\"] == i[\"request\"]:\n",
    "                if \"medical\" in i[\"model\"]:     \n",
    "                    c += 1\n",
    "                    break\n",
    "        if \"finance\" in j['source']:\n",
    "            if i[\"request\"] == j[\"question\"]:\n",
    "                if \"finance\" in i[\"model\"]: \n",
    "                    c += 1\n",
    "                    break\n",
    "        if \"legal\" in j['source']:\n",
    "            if i[\"request\"] == j[\"question\"]:\n",
    "                if \"legal\" in i[\"model\"]: \n",
    "                    c += 1\n",
    "                    break"
   ]
  },
  {
   "cell_type": "code",
   "execution_count": 18,
   "id": "2226dadd",
   "metadata": {},
   "outputs": [
    {
     "name": "stdout",
     "output_type": "stream",
     "text": [
      "306\n"
     ]
    }
   ],
   "source": [
    "print(c)\n"
   ]
  },
  {
   "cell_type": "code",
   "execution_count": 11,
   "id": "5b3c6faf",
   "metadata": {},
   "outputs": [
    {
     "name": "stdout",
     "output_type": "stream",
     "text": [
      "Average latency: 0.097557 seconds\n"
     ]
    }
   ],
   "source": [
    "\n",
    "def average_latency(file_path):\n",
    "    latencies = []\n",
    "    with open(file_path, 'r', encoding='utf-8') as f:\n",
    "        for line in f:\n",
    "            if line.strip():\n",
    "                record = json.loads(line)\n",
    "                latencies.append(record['latency'])\n",
    "\n",
    "    if not latencies:\n",
    "        return 0.0  # or raise an error\n",
    "    return sum(latencies) / len(latencies)\n",
    "\n",
    "# Example usage\n",
    "avg = average_latency('./latency_maxsim.jsonl')\n",
    "print(f\"Average latency: {avg:.6f} seconds\")"
   ]
  }
 ],
 "metadata": {
  "kernelspec": {
   "display_name": "myenv",
   "language": "python",
   "name": "python3"
  },
  "language_info": {
   "codemirror_mode": {
    "name": "ipython",
    "version": 3
   },
   "file_extension": ".py",
   "mimetype": "text/x-python",
   "name": "python",
   "nbconvert_exporter": "python",
   "pygments_lexer": "ipython3",
   "version": "3.12.9"
  }
 },
 "nbformat": 4,
 "nbformat_minor": 5
}
