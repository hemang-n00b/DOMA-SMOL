{
 "cells": [
  {
   "cell_type": "code",
   "execution_count": 4,
   "id": "43dc5981",
   "metadata": {},
   "outputs": [
    {
     "name": "stdout",
     "output_type": "stream",
     "text": [
      "{\n",
      "    \"file\": \"./router_cosine.jsonl\",\n",
      "    \"avg_confidence_score\": 3.623246492985972,\n",
      "    \"avg_energy_consumption\": 118194.92985971944,\n",
      "    \"avg_latency\": 2168.2934126753607\n",
      "}\n",
      "{\n",
      "    \"file\": \"./router_bert.jsonl\",\n",
      "    \"avg_confidence_score\": 3.6152304609218437,\n",
      "    \"avg_energy_consumption\": 113784.03406813627,\n",
      "    \"avg_latency\": 2071.926132684241\n",
      "}\n",
      "{\n",
      "    \"file\": \"./router_cross.jsonl\",\n",
      "    \"avg_confidence_score\": 3.56312625250501,\n",
      "    \"avg_energy_consumption\": 121562.63126252504,\n",
      "    \"avg_latency\": 2348.9035789479235\n",
      "}\n"
     ]
    }
   ],
   "source": [
    "import json\n",
    "import sys\n",
    "import glob\n",
    "\n",
    "def calculate_averages(file_path):\n",
    "    total_confidence = 0\n",
    "    total_energy = 0\n",
    "    total_latency = 0\n",
    "    count = 0\n",
    "\n",
    "    try:\n",
    "        with open(file_path, 'r', encoding='utf-8') as f:\n",
    "            for line in f:\n",
    "                # if count == 248:\n",
    "                #     break\n",
    "                try:\n",
    "                    data = json.loads(line.strip())\n",
    "                    total_confidence += float(data.get(\"confidence_score\", 0))\n",
    "                    total_energy += float(data.get(\"energy_consumption\", 0))\n",
    "                    total_latency += float(data.get(\"latency\", 0))\n",
    "                    count += 1\n",
    "                except (json.JSONDecodeError, ValueError) as e:\n",
    "                    print(f\"Skipping invalid JSON in {file_path}: {e}\")\n",
    "\n",
    "    except FileNotFoundError:\n",
    "        print(f\"File not found: {file_path}\")\n",
    "        return None\n",
    "\n",
    "    if count == 0:\n",
    "        return {\"file\": file_path, \"avg_confidence_score\": 0, \"avg_energy_consumption\": 0, \"avg_latency\": 0}\n",
    "\n",
    "    return {\n",
    "        \"file\": file_path,\n",
    "        \"avg_confidence_score\": total_confidence / count,\n",
    "        \"avg_energy_consumption\": total_energy / count,\n",
    "        \"avg_latency\": total_latency / count,\n",
    "    }\n",
    "\n",
    "if __name__ == \"__main__\":\n",
    "    # Get list of JSONL files from command line arguments\n",
    "    file_list = [\"./router_cosine.jsonl\" , \"./router_bert.jsonl\", \"./router_cross.jsonl\"]\n",
    "    results = [calculate_averages(file) for file in file_list]\n",
    "\n",
    "    # Print results in a structured format\n",
    "    for result in results:\n",
    "        if result:\n",
    "            print(json.dumps(result, indent=4))\n"
   ]
  },
  {
   "cell_type": "code",
   "execution_count": null,
   "id": "315eb435",
   "metadata": {},
   "outputs": [],
   "source": []
  }
 ],
 "metadata": {
  "kernelspec": {
   "display_name": "myenv",
   "language": "python",
   "name": "python3"
  },
  "language_info": {
   "codemirror_mode": {
    "name": "ipython",
    "version": 3
   },
   "file_extension": ".py",
   "mimetype": "text/x-python",
   "name": "python",
   "nbconvert_exporter": "python",
   "pygments_lexer": "ipython3",
   "version": "undefined.undefined.undefined"
  }
 },
 "nbformat": 4,
 "nbformat_minor": 5
}
