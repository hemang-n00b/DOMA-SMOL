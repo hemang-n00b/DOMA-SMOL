{
 "cells": [
  {
   "cell_type": "code",
   "execution_count": 7,
   "metadata": {},
   "outputs": [
    {
     "name": "stdout",
     "output_type": "stream",
     "text": [
      "38801\n"
     ]
    }
   ],
   "source": [
    "data = []\n",
    "for item in ds[\"train\"]:\n",
    "    data_dict = {\n",
    "        \"question\": item[\"messages\"][1][\"content\"],\n",
    "        \"answer\": item[\"messages\"][2][\"content\"]\n",
    "    }\n",
    "    data.append(data_dict)\n",
    "print(len(data))"
   ]
  },
  {
   "cell_type": "code",
   "execution_count": 8,
   "metadata": {},
   "outputs": [],
   "source": [
    "from json_utils import save_jsonl\n",
    "save_jsonl(data, \"datasets/finance.jsonl\")"
   ]
  },
  {
   "cell_type": "code",
   "execution_count": 3,
   "metadata": {},
   "outputs": [
    {
     "name": "stdout",
     "output_type": "stream",
     "text": [
      "{'question': 'Q: I was wondering if a pain management office is acting illegally/did an illegal action.. I was discharged as a patient from a pain management office after them telling me that a previous pain management specialist I saw administered a steroid shot wrong and I told them in the portal that I spoke to lawyers for advice but no lawsuit/case was created. It was maybe 1-2 months after I was discharged that I no longer have access to my patient portal with them. Every time I try to login I enter my credentials, wait a few seconds, and then I get re-directed back to the original screen where I have various options to login. I know I can speak to the office directly and ask them about what specifically is going on, talk to other lawyers if this is a violation of my rights, etc. but I was just wondering if anyone on this site would know if this action is in fact illegal. ', 'answer': \"A:In Kentucky, your situation raises questions about patient rights and medical records access. If you were discharged from a pain management office and subsequently lost access to your patient portal, it's important to understand your rights regarding medical records. Under the Health Insurance Portability and Accountability Act (HIPAA), you have the right to access your own medical records. A healthcare provider cannot deny you access to your records, even if you were discharged from their practice. The issue with the patient portal could be a technical glitch or a deliberate action, but either way, it needs to be addressed. You should contact the pain management office directly to inquire about the issue with the patient portal. They are obligated to provide you with a way to access your medical records, which may include providing paper copies or access through a different electronic means. If the office is unresponsive or refuses to provide access to your records, consider speaking to a lawyer who is knowledgeable in health care law. They can guide you on how to enforce your rights to access your medical records and address any potential legal violations by the healthcare provider. Remember, your right to access your medical records is protected by law, and any obstacles to this access should be promptly addressed.\"}\n"
     ]
    }
   ],
   "source": [
    "print(ds[\"train\"][0])"
   ]
  },
  {
   "cell_type": "code",
   "execution_count": null,
   "metadata": {},
   "outputs": [
    {
     "name": "stdout",
     "output_type": "stream",
     "text": [
      "3742\n"
     ]
    }
   ],
   "source": [
    "data = []\n",
    "for item in ds[\"train\"]:\n",
    "    data_dict = {\n",
    "        \"question\": item[\"question\"],\n",
    "        \"answer\": item[\"answer\"]\n",
    "    }\n",
    "    data.append(data_dict)\n",
    "print(len(data))"
   ]
  },
  {
   "cell_type": "code",
   "execution_count": 5,
   "metadata": {},
   "outputs": [],
   "source": [
    "from json_utils import save_jsonl\n",
    "save_jsonl(data, \"datasets/legal.jsonl\")"
   ]
  },
  {
   "cell_type": "code",
   "execution_count": 9,
   "metadata": {},
   "outputs": [],
   "source": [
    "from sklearn.model_selection import train_test_split\n",
    "train_data, test_data = train_test_split(data, test_size=300, random_state=42)"
   ]
  },
  {
   "cell_type": "code",
   "execution_count": 10,
   "metadata": {},
   "outputs": [],
   "source": [
    "save_jsonl(train_data, \"datasets/legal/train.jsonl\")\n",
    "save_jsonl(test_data, \"datasets/legal/test.jsonl\")"
   ]
  },
  {
   "cell_type": "code",
   "execution_count": null,
   "metadata": {},
   "outputs": [],
   "source": [
    "import json\n",
    "def append_last_lines_with_dataset(input_path, output_path, dataset_name, num_lines=166):\n",
    "    \n",
    "    with open(input_path, 'r') as infile:\n",
    "        lines = infile.readlines()[-num_lines:]\n",
    "        \n",
    "    with open(output_path, 'a') as outfile:\n",
    "        for line in lines:\n",
    "            if not line.strip():\n",
    "                continue  \n",
    "            try:\n",
    "                data = json.loads(line)\n",
    "                data['dataset'] = dataset_name\n",
    "                json.dump(data, outfile)\n",
    "                outfile.write('\\n')\n",
    "            except json.JSONDecodeError as e:\n",
    "                print(f\"Skipping invalid JSON line: {line.strip()}\")\n",
    "                continue"
   ]
  },
  {
   "cell_type": "code",
   "execution_count": 12,
   "metadata": {},
   "outputs": [],
   "source": [
    "append_last_lines_with_dataset(\n",
    "    input_path='./datasets/finance.jsonl',\n",
    "    output_path='500_set3.jsonl',\n",
    "    dataset_name='lefinanceal',\n",
    "    num_lines=167\n",
    ")"
   ]
  },
  {
   "cell_type": "code",
   "execution_count": 13,
   "metadata": {},
   "outputs": [
    {
     "name": "stdout",
     "output_type": "stream",
     "text": [
      "1001\n"
     ]
    }
   ],
   "source": [
    "from json_utils import load_jsonl\n",
    "data = load_jsonl(\"500_set3.jsonl\")\n",
    "print(len(data))"
   ]
  },
  {
   "cell_type": "code",
   "execution_count": 14,
   "metadata": {},
   "outputs": [
    {
     "name": "stdout",
     "output_type": "stream",
     "text": [
      "500\n"
     ]
    }
   ],
   "source": [
    "from json_utils import load_jsonl\n",
    "data2 = load_jsonl(\"../implementation/lru-adap/final_20_mins.jsonl\")\n",
    "print(len(data2))"
   ]
  },
  {
   "cell_type": "code",
   "execution_count": 15,
   "metadata": {},
   "outputs": [],
   "source": [
    "data = data[501:]\n",
    "from json_utils import load_jsonl, save_jsonl\n",
    "import random\n",
    "random.shuffle(data)\n",
    "for _,item in enumerate(data):\n",
    "    item[\"source\"] = item[\"dataset\"]\n",
    "    item[\"timestamp\"] = data2[_][\"timestamp\"]\n",
    "save_jsonl(data, \"set3_final_20mins.jsonl\")"
   ]
  }
 ],
 "metadata": {
  "kernelspec": {
   "display_name": "myenv",
   "language": "python",
   "name": "python3"
  },
  "language_info": {
   "codemirror_mode": {
    "name": "ipython",
    "version": 3
   },
   "file_extension": ".py",
   "mimetype": "text/x-python",
   "name": "python",
   "nbconvert_exporter": "python",
   "pygments_lexer": "ipython3",
   "version": "3.12.9"
  }
 },
 "nbformat": 4,
 "nbformat_minor": 2
}
